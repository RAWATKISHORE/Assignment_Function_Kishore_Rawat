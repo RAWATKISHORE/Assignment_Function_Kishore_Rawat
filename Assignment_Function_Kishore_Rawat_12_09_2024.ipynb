{
  "nbformat": 4,
  "nbformat_minor": 0,
  "metadata": {
    "colab": {
      "provenance": []
    },
    "kernelspec": {
      "name": "python3",
      "display_name": "Python 3"
    },
    "language_info": {
      "name": "python"
    }
  },
  "cells": [
    {
      "cell_type": "markdown",
      "source": [
        "#Assignment    : Function       : Kishore Rawat"
      ],
      "metadata": {
        "id": "pUWwgcSfNpJM"
      }
    },
    {
      "cell_type": "markdown",
      "source": [
        "#Theory Questions:"
      ],
      "metadata": {
        "id": "32-BFq830Qpi"
      }
    },
    {
      "cell_type": "markdown",
      "source": [
        "##Q1. What is the difference between a function and a method in Python?"
      ],
      "metadata": {
        "id": "XTocdeojOMeG"
      }
    },
    {
      "cell_type": "markdown",
      "source": [
        "##Ans. The key difference between a function and a method in Python lies in their association with objects or classes. A function is a standalone piece of code, whereas a method is associated with a class and operates on instances of that class.\n",
        "\n",
        "##Example:\n",
        "##1. Function (Standalone):"
      ],
      "metadata": {
        "id": "ozWsqEokOap0"
      }
    },
    {
      "cell_type": "code",
      "source": [
        "def greet(name):\n",
        "    return f\"Hello, {name}!\"\n",
        "\n",
        "message = greet(\"Kishore\")\n",
        "print(message)\n",
        "\n",
        "#This is a function, and it can be called directly by passing the required argument"
      ],
      "metadata": {
        "colab": {
          "base_uri": "https://localhost:8080/"
        },
        "id": "L4n0TxsYPYZy",
        "outputId": "2629704c-5008-4b10-9951-87cb5398290c"
      },
      "execution_count": null,
      "outputs": [
        {
          "output_type": "stream",
          "name": "stdout",
          "text": [
            "Hello, Kishore!\n"
          ]
        }
      ]
    },
    {
      "cell_type": "markdown",
      "source": [
        "##2. Method (Inside a Class):"
      ],
      "metadata": {
        "id": "FO3fgGUNQAbn"
      }
    },
    {
      "cell_type": "code",
      "source": [
        "class greeter:\n",
        "    def greet(self, name):\n",
        "        return f\"Hello, {name}!\"\n",
        "\n",
        "person = greeter()\n",
        "message = person.greet(\"Kishore\")\n",
        "print(message)\n",
        "\n",
        "#This is a method within the Greeter class. It needs to be called on an instance of the class:\\"
      ],
      "metadata": {
        "colab": {
          "base_uri": "https://localhost:8080/"
        },
        "id": "s-ROKwxUPyRg",
        "outputId": "d02efa6b-0f3a-43f6-a7b6-7d089bd615e6"
      },
      "execution_count": null,
      "outputs": [
        {
          "output_type": "stream",
          "name": "stdout",
          "text": [
            "Hello, Kishore!\n"
          ]
        }
      ]
    },
    {
      "cell_type": "markdown",
      "source": [
        "##Key Difference:\n",
        "##* Function: Can be called directly(e.g., greet(\"Alice\").\n",
        "##* Method: Must be called on an instance of a class (e.g., greeter.greet(\"Alice\")). The method implicitly receives the instance (self) as its first argument."
      ],
      "metadata": {
        "id": "b-UswzZzRAmc"
      }
    },
    {
      "cell_type": "markdown",
      "source": [
        "------------------------------------------------------------------------------------------------------------------------------------"
      ],
      "metadata": {
        "id": "Ug5ReG3_SHSL"
      }
    },
    {
      "cell_type": "markdown",
      "source": [
        "##Q2.\tExplain the concept of function arguments and parameters in Python."
      ],
      "metadata": {
        "id": "l7L8ruJkSHIM"
      }
    },
    {
      "cell_type": "markdown",
      "source": [
        "##Ans. In Python, parameters and arguments refer to the inputs given to a function, but they differ in their context:\n",
        "\n",
        "##* Parameters are the variables listed in a function's definition.\n",
        "\n",
        "##* Arguments are the actual values passed to the function when it is called.\n",
        "\n",
        "##Example:"
      ],
      "metadata": {
        "id": "HZ7ZLC-WSG1l"
      }
    },
    {
      "cell_type": "code",
      "source": [
        "def greet(name, message): #name & message are parameters.\n",
        "    return f\"{message}, {name}!\"\n",
        "\n",
        "message = greet(\"Kishore\", \"Hello\") #Kishore & Hello are arguments.\n",
        "print(message)"
      ],
      "metadata": {
        "colab": {
          "base_uri": "https://localhost:8080/"
        },
        "id": "tSvLhDv4Zzqo",
        "outputId": "121c2641-5a02-4435-9730-0c65e78159af"
      },
      "execution_count": null,
      "outputs": [
        {
          "output_type": "stream",
          "name": "stdout",
          "text": [
            "Hello, Kishore!\n"
          ]
        }
      ]
    },
    {
      "cell_type": "markdown",
      "source": [
        "##Breakdown:\n",
        "\n",
        "##* Parameters: In the function definition def greet(name, message):, name and message are the parameters. They act as placeholders for the values that will be passed to the function.\n",
        "\n",
        "##* Arguments: When calling the function with greet(\"Alice\", \"Hello\"), \"Alice\" and \"Hello\" are the arguments passed to the function. These values get assigned to the parameters (name and message) within the function."
      ],
      "metadata": {
        "id": "G9ncLB6-SGz5"
      }
    },
    {
      "cell_type": "markdown",
      "source": [
        "## Types of Function Arguments in Python:\n",
        "\n",
        "##1. Positional Arguments: These are the most common, where the values are assigned to parameters based on their position."
      ],
      "metadata": {
        "id": "_KI5KDICarlv"
      }
    },
    {
      "cell_type": "code",
      "source": [
        "greet(\"kishore\", \"Hello\")"
      ],
      "metadata": {
        "colab": {
          "base_uri": "https://localhost:8080/",
          "height": 36
        },
        "id": "H8zGPZtiafn-",
        "outputId": "16a0b69d-25da-482c-c809-8ef104c27080"
      },
      "execution_count": null,
      "outputs": [
        {
          "output_type": "execute_result",
          "data": {
            "text/plain": [
              "'Hello, kishore!'"
            ],
            "application/vnd.google.colaboratory.intrinsic+json": {
              "type": "string"
            }
          },
          "metadata": {},
          "execution_count": 10
        }
      ]
    },
    {
      "cell_type": "markdown",
      "source": [
        "##2. Keyword Arguments: You can pass arguments by explicitly naming the parameter."
      ],
      "metadata": {
        "id": "0bdYp299a8Ap"
      }
    },
    {
      "cell_type": "code",
      "source": [
        "greet(message=\"Hello\", name=\"Kishore\")"
      ],
      "metadata": {
        "colab": {
          "base_uri": "https://localhost:8080/",
          "height": 36
        },
        "id": "OahjiixZa2yy",
        "outputId": "205daf43-c402-434c-b809-0635d5d1d7d5"
      },
      "execution_count": null,
      "outputs": [
        {
          "output_type": "execute_result",
          "data": {
            "text/plain": [
              "'Hello, Kishore!'"
            ],
            "application/vnd.google.colaboratory.intrinsic+json": {
              "type": "string"
            }
          },
          "metadata": {},
          "execution_count": 11
        }
      ]
    },
    {
      "cell_type": "markdown",
      "source": [
        "##3. Default Arguments: You can define default values for parameters, so they become optional when calling the function."
      ],
      "metadata": {
        "id": "PJ5Jgh2RbLLv"
      }
    },
    {
      "cell_type": "code",
      "source": [
        "def greet(name, message=\"Hello\"):\n",
        "    return f\"{message}, {name}!\"\n",
        "\n",
        "message = greet(\"Kishore\")\n",
        "print(message)\n",
        "message = greet(\"Kishore\", \"Hi\")\n",
        "print(message)"
      ],
      "metadata": {
        "colab": {
          "base_uri": "https://localhost:8080/"
        },
        "id": "qerpDhVkbF5E",
        "outputId": "c49c76db-7a25-4857-ed58-163c7d394d7f"
      },
      "execution_count": null,
      "outputs": [
        {
          "output_type": "stream",
          "name": "stdout",
          "text": [
            "Hello, Kishore!\n",
            "Hi, Kishore!\n"
          ]
        }
      ]
    },
    {
      "cell_type": "markdown",
      "source": [
        "##4. Variable-Length Arguments: Python allows functions to take a variable number of arguments using *args for positional arguments and **kwargs for keyword arguments."
      ],
      "metadata": {
        "id": "ozTEbYTObuld"
      }
    },
    {
      "cell_type": "code",
      "source": [
        "def greet(*names):\n",
        "    for name in names:\n",
        "        print(f\"Hello, {name}!\")\n",
        "\n",
        "greet(\"Kishore\", \"Mukesh\", \"roshan\")"
      ],
      "metadata": {
        "colab": {
          "base_uri": "https://localhost:8080/"
        },
        "id": "EXIKcHn0bXAs",
        "outputId": "1d561092-aa01-452a-867f-dc9a01bcf063"
      },
      "execution_count": null,
      "outputs": [
        {
          "output_type": "stream",
          "name": "stdout",
          "text": [
            "Hello, Kishore!\n",
            "Hello, Mukesh!\n",
            "Hello, roshan!\n"
          ]
        }
      ]
    },
    {
      "cell_type": "markdown",
      "source": [
        "--------------------------------------------------------------------------------------------------------------------------------------------"
      ],
      "metadata": {
        "id": "XKrBlFzLcKmm"
      }
    },
    {
      "cell_type": "markdown",
      "source": [
        "##Q3.\tWhat are the different ways to define and call a function in Python?"
      ],
      "metadata": {
        "id": "w5OD6qS8cKdW"
      }
    },
    {
      "cell_type": "markdown",
      "source": [
        "##Ans. In Python, functions can be defined and called in several ways, depending on how you want to pass parameters or return values. Below are the different ways to define and call a function, with examples for each:\n",
        "\n",
        "##1. Basic Function (Positional Arguments)\n",
        "## A simple function that takes positional arguments and returns a result."
      ],
      "metadata": {
        "id": "oDI7ZCk4cKU9"
      }
    },
    {
      "cell_type": "code",
      "source": [
        "def add_numbers(a, b):\n",
        "    return a + b\n",
        "\n",
        "result = add_numbers(5, 3)\n",
        "print(result)"
      ],
      "metadata": {
        "colab": {
          "base_uri": "https://localhost:8080/"
        },
        "id": "68Wq7RsWcBG4",
        "outputId": "62980c88-dcfa-4f22-f06e-5d4c8b167bbd"
      },
      "execution_count": null,
      "outputs": [
        {
          "output_type": "stream",
          "name": "stdout",
          "text": [
            "8\n"
          ]
        }
      ]
    },
    {
      "cell_type": "markdown",
      "source": [
        "##2. Function with Default Arguments\n",
        "## You can define a function with default values for some parameters. If those arguments are not provided during the function call, their default values are used."
      ],
      "metadata": {
        "id": "L3oO_ouvfKX8"
      }
    },
    {
      "cell_type": "code",
      "source": [
        "def greet(name, message=\"Hello\"):\n",
        "    return f\"{message}, {name}!\"\n",
        "\n",
        "message = greet(\"Kishore\")\n",
        "print(message)"
      ],
      "metadata": {
        "colab": {
          "base_uri": "https://localhost:8080/"
        },
        "id": "e-R_8jT_fGK5",
        "outputId": "e168b4cf-6292-4f7e-8743-3dff6b9b31c1"
      },
      "execution_count": null,
      "outputs": [
        {
          "output_type": "stream",
          "name": "stdout",
          "text": [
            "Hello, Kishore!\n"
          ]
        }
      ]
    },
    {
      "cell_type": "markdown",
      "source": [
        "##3. Function with Keyword Arguments\n",
        "## When calling a function, you can specify arguments by their parameter names, allowing you to change the order of arguments."
      ],
      "metadata": {
        "id": "O79D7rAOgdNh"
      }
    },
    {
      "cell_type": "code",
      "source": [
        "def describe_person(name, age):\n",
        "    return f\"{name} is {age} years old.\"\n",
        "\n",
        "description = describe_person(age=30, name=\"Kishore\")\n",
        "print(description)"
      ],
      "metadata": {
        "colab": {
          "base_uri": "https://localhost:8080/"
        },
        "id": "AnPNnTrmgJTr",
        "outputId": "749044d8-1c3a-447c-b949-6f661bf27194"
      },
      "execution_count": null,
      "outputs": [
        {
          "output_type": "stream",
          "name": "stdout",
          "text": [
            "Kishore is 30 years old.\n"
          ]
        }
      ]
    },
    {
      "cell_type": "markdown",
      "source": [
        "##4. Function with Variable-Length Arguments (args and kwargs)\n",
        "\n",
        "##A. *args allows you to pass a variable number of positional arguments.\n",
        "##B. **kwargs allows you to pass a variable number of keyword arguments."
      ],
      "metadata": {
        "id": "okQDQOo0i8XA"
      }
    },
    {
      "cell_type": "code",
      "source": [
        "def summarise(*args, **kwargs):\n",
        "    print(\"Positional Arguments:\")\n",
        "    for arg in args:\n",
        "        print(arg)\n",
        "\n",
        "    print(\"\\nKeyword Arguments:\")\n",
        "    for key, value in kwargs.items():\n",
        "        print(f\"{key}: {value}\")\n",
        "\n",
        "summarise(\"Kishore\", \"Mukesh\", \"roshan\", age=30, city=\"New York\")"
      ],
      "metadata": {
        "colab": {
          "base_uri": "https://localhost:8080/"
        },
        "id": "ieji3pmQjyFk",
        "outputId": "7f91f553-a05e-4d95-f22c-86226b741553"
      },
      "execution_count": null,
      "outputs": [
        {
          "output_type": "stream",
          "name": "stdout",
          "text": [
            "Positional Arguments:\n",
            "Kishore\n",
            "Mukesh\n",
            "roshan\n",
            "\n",
            "Keyword Arguments:\n",
            "age: 30\n",
            "city: New York\n"
          ]
        }
      ]
    },
    {
      "cell_type": "markdown",
      "source": [
        "##5. Function with Return Statement\n",
        "\n",
        "##Functions can return a value using the return statement. If no return statement is used, the function returns None by default."
      ],
      "metadata": {
        "id": "BNgZ34KfkIUj"
      }
    },
    {
      "cell_type": "code",
      "source": [
        "def multiply(a, b):\n",
        "    return a * b\n",
        "\n",
        "result = multiply(5, 3)\n",
        "print(result)"
      ],
      "metadata": {
        "colab": {
          "base_uri": "https://localhost:8080/"
        },
        "id": "GYz-EKJxj24n",
        "outputId": "edf7685b-bf62-4c14-c5a1-a0b9a5d7839b"
      },
      "execution_count": null,
      "outputs": [
        {
          "output_type": "stream",
          "name": "stdout",
          "text": [
            "15\n"
          ]
        }
      ]
    },
    {
      "cell_type": "markdown",
      "source": [
        "##6. Recursive Function\n",
        "##A recursive function is a function that calls itself. It's commonly used for problems like calculating factorials or traversing recursive data structures."
      ],
      "metadata": {
        "id": "7B3gHA1ukYCE"
      }
    },
    {
      "cell_type": "code",
      "source": [
        "def factorial(n):\n",
        "    if n == 0:\n",
        "        return 1\n",
        "    else:\n",
        "        return n * factorial(n - 1)\n",
        "\n",
        "result = factorial(5)\n",
        "print(result)"
      ],
      "metadata": {
        "colab": {
          "base_uri": "https://localhost:8080/"
        },
        "id": "pW8IG1IWkUi5",
        "outputId": "58d95364-175f-4925-90a7-80d4d52b6579"
      },
      "execution_count": null,
      "outputs": [
        {
          "output_type": "stream",
          "name": "stdout",
          "text": [
            "120\n"
          ]
        }
      ]
    },
    {
      "cell_type": "markdown",
      "source": [
        "##7. Nested Functions\n",
        "\n",
        "##You can define a function inside another function. The inner function is local to the outer function and cannot be accessed outside of it."
      ],
      "metadata": {
        "id": "Poy5CZd2k0uW"
      }
    },
    {
      "cell_type": "code",
      "source": [
        "def outer_function(x):\n",
        "    def inner_function(y):\n",
        "        return x + y\n",
        "    return inner_function\n",
        "\n",
        "closure = outer_function(5)\n",
        "result = closure(3)\n",
        "print(result)"
      ],
      "metadata": {
        "colab": {
          "base_uri": "https://localhost:8080/"
        },
        "id": "Je27FATdlHuT",
        "outputId": "c4d8dfbf-6b7e-4125-97fb-59af44895919"
      },
      "execution_count": null,
      "outputs": [
        {
          "output_type": "stream",
          "name": "stdout",
          "text": [
            "8\n"
          ]
        }
      ]
    },
    {
      "cell_type": "markdown",
      "source": [
        "##8. Generator Function\n",
        "\n",
        "##A generator function is defined using yield instead of return. It allows you to return a sequence of values lazily, i.e., one at a time, instead of all at once."
      ],
      "metadata": {
        "id": "PDV6cIUQlMQV"
      }
    },
    {
      "cell_type": "code",
      "source": [
        "def even_numbers(n):\n",
        "    for i in range(n):\n",
        "        if i % 2 == 0:\n",
        "            yield i\n",
        "\n",
        "generator = even_numbers(10)\n",
        "for num in generator:\n",
        "    print(num)"
      ],
      "metadata": {
        "colab": {
          "base_uri": "https://localhost:8080/"
        },
        "id": "4ZpNUpa0k8da",
        "outputId": "43866e9b-97b7-4a7c-a5e4-c22e8ce6346f"
      },
      "execution_count": null,
      "outputs": [
        {
          "output_type": "stream",
          "name": "stdout",
          "text": [
            "0\n",
            "2\n",
            "4\n",
            "6\n",
            "8\n"
          ]
        }
      ]
    },
    {
      "cell_type": "markdown",
      "source": [
        "---------------------------------------------------------------------------------------------------------------------------------------"
      ],
      "metadata": {
        "id": "ZHg8059Oleif"
      }
    },
    {
      "cell_type": "markdown",
      "source": [
        "##Q4.\tWhat is the purpose of the 'return' statement in a Python function?"
      ],
      "metadata": {
        "id": "skEx9aXQleYr"
      }
    },
    {
      "cell_type": "markdown",
      "source": [
        "##Ans. The return statement in a Python function is used to exit the function and send back a value (or multiple values) to the caller. It marks the end of the function’s execution, and the value(s) specified after return is the output of the function.\n",
        "\n",
        "##Key Purposes of the return Statement:\n",
        "\n",
        "##*Return a Value: The return statement allows a function to return a specific value or result after completing its task.\n",
        "\n",
        "##*If no return is specified, the function returns None by default.\n",
        "\n",
        "##*Exit the Function: When return is encountered, the function stops executing further code, and control is returned to the calling code.\n",
        "\n",
        "##Example 1: Returning a Single Value:"
      ],
      "metadata": {
        "id": "EPV2vbXJlePM"
      }
    },
    {
      "cell_type": "code",
      "source": [
        "def add_numbers(a, b):\n",
        "    return a + b\n",
        "\n",
        "result = add_numbers(5, 3)\n",
        "print(result)"
      ],
      "metadata": {
        "colab": {
          "base_uri": "https://localhost:8080/"
        },
        "id": "c8YRIIb5mVbf",
        "outputId": "b9da98c0-c552-4a0b-d7bf-1c0dae27cbf5"
      },
      "execution_count": null,
      "outputs": [
        {
          "output_type": "stream",
          "name": "stdout",
          "text": [
            "8\n"
          ]
        }
      ]
    },
    {
      "cell_type": "markdown",
      "source": [
        "##Example 2: Returning Multiple Values\n",
        "\n",
        "##You can return multiple values from a function using a comma-separated list."
      ],
      "metadata": {
        "id": "UwuDN8MUmcmT"
      }
    },
    {
      "cell_type": "code",
      "source": [
        "def get_person_info():\n",
        "    name = \"Kishore\"\n",
        "    age = 30\n",
        "    city = \"New York\"\n",
        "    return name, age, city\n",
        "\n",
        "person_info = get_person_info()\n",
        "print(person_info)"
      ],
      "metadata": {
        "colab": {
          "base_uri": "https://localhost:8080/"
        },
        "id": "4Ax5XkYombdH",
        "outputId": "6c65b44f-5233-4af3-c041-30e711074238"
      },
      "execution_count": null,
      "outputs": [
        {
          "output_type": "stream",
          "name": "stdout",
          "text": [
            "('Kishore', 30, 'New York')\n"
          ]
        }
      ]
    },
    {
      "cell_type": "markdown",
      "source": [
        "##Example 3: Early Exit from a Function\n",
        "\n",
        "##The return statement can be used to exit a function early, before the end of the function's code."
      ],
      "metadata": {
        "id": "1dMtwu1zncyN"
      }
    },
    {
      "cell_type": "code",
      "source": [
        "def check_even_odd(number):\n",
        "    if number % 2 == 0:\n",
        "        return \"Even\"\n",
        "    else:\n",
        "        return \"Odd\"\n",
        "\n",
        "result = check_even_odd(7)\n",
        "print(result)\n",
        "result = check_even_odd(10)\n",
        "print(result)"
      ],
      "metadata": {
        "colab": {
          "base_uri": "https://localhost:8080/"
        },
        "id": "dZJUvl1WmlT0",
        "outputId": "97c4528d-c969-4622-d24b-225c23d1257f"
      },
      "execution_count": null,
      "outputs": [
        {
          "output_type": "stream",
          "name": "stdout",
          "text": [
            "Odd\n",
            "Even\n"
          ]
        }
      ]
    },
    {
      "cell_type": "markdown",
      "source": [
        "## Example 4: Function Without a return Statement\n",
        "\n",
        "## If a function does not have a return statement, it implicitly returns None."
      ],
      "metadata": {
        "id": "8YlWnHqEn9VX"
      }
    },
    {
      "cell_type": "code",
      "source": [
        "def greet(name):\n",
        "    print(f\"Hello, {name}!\")\n",
        "\n",
        "result = greet(\"Mukesh\")\n",
        "print(result)"
      ],
      "metadata": {
        "colab": {
          "base_uri": "https://localhost:8080/"
        },
        "id": "gYZUdo7NnwO2",
        "outputId": "035a2070-1c3f-48b4-9678-741577758ace"
      },
      "execution_count": null,
      "outputs": [
        {
          "output_type": "stream",
          "name": "stdout",
          "text": [
            "Hello, Mukesh!\n",
            "None\n"
          ]
        }
      ]
    },
    {
      "cell_type": "markdown",
      "source": [
        "---------------------------------------------------------------------------------------------------------------------------------------"
      ],
      "metadata": {
        "id": "epUzCTIhpULi"
      }
    },
    {
      "cell_type": "markdown",
      "source": [
        "##Q5.\tWhat are iterators in Python and how do they differ from iterables?"
      ],
      "metadata": {
        "id": "h4GDR6espUBU"
      }
    },
    {
      "cell_type": "markdown",
      "source": [
        "##Ans. In Python, iterators and iterables are fundamental concepts related to looping and accessing elements in a collection. While they are closely related, they serve different purposes. Let’s break down each concept and understand how they differ.\n",
        "\n",
        "##1. Iterables:\n",
        "## An iterable is any Python object that can be looped over (i.e., you can traverse through all its elements). Examples of iterables include lists, tuples, strings, sets, dictionaries, and more. In simple terms, an iterable is an object capable of returning its elements one at a time.\n",
        "\n",
        "##To be iterable, an object must implement the __iter__() method, which returns an iterator.\n",
        "\n",
        "##Examples of Iterables:\n",
        "##*List: [1, 2, 3]\n",
        "##*String: \"Hello\"\n",
        "##*Tuple: (4, 5, 6)"
      ],
      "metadata": {
        "id": "9J7JUxX-pT4k"
      }
    },
    {
      "cell_type": "code",
      "source": [
        "my_list = [1, 2, 3]\n",
        "for item in my_list:\n",
        "    print(item)"
      ],
      "metadata": {
        "colab": {
          "base_uri": "https://localhost:8080/"
        },
        "id": "R8g-xV5frEs8",
        "outputId": "eea414d1-7193-4754-a0ef-b2e6f5bce793"
      },
      "execution_count": null,
      "outputs": [
        {
          "output_type": "stream",
          "name": "stdout",
          "text": [
            "1\n",
            "2\n",
            "3\n"
          ]
        }
      ]
    },
    {
      "cell_type": "markdown",
      "source": [
        "##2. Iterators\n",
        "\n",
        "##An iterator is an object that represents a stream of data and is responsible for providing the next item from the iterable. It knows how to fetch the next value one at a time until there are no more elements.\n",
        "\n",
        "##An object is considered an iterator if it implements two methods: __iter__() (returns the iterator object itself) and __next__() (returns the next item in the sequence).\n",
        "\n",
        "##When there are no more elements to return, the __next__() method raises a StopIteration exception to signal the end of the iteration.\n",
        "\n",
        "##Example of an Iterator:"
      ],
      "metadata": {
        "id": "FE8JCe8nxBDE"
      }
    },
    {
      "cell_type": "code",
      "source": [
        "my_list = [1, 2, 3]\n",
        "my_itrable = iter(my_list)\n",
        "\n",
        "print(next(my_itrable))\n",
        "print(next(my_itrable))\n",
        "print(next(my_itrable))"
      ],
      "metadata": {
        "colab": {
          "base_uri": "https://localhost:8080/"
        },
        "id": "DIxzavXculVZ",
        "outputId": "6e985600-bac4-4bba-d0ea-7eaf997a11da"
      },
      "execution_count": null,
      "outputs": [
        {
          "output_type": "stream",
          "name": "stdout",
          "text": [
            "1\n",
            "2\n",
            "3\n"
          ]
        }
      ]
    },
    {
      "cell_type": "markdown",
      "source": [
        "##Key Differences Between Iterables and Iterators:\n",
        "##Feature\t- Iterable\t- Iterator\n",
        "##A. Definition -\tAn object that can be looped over (e.g., list, tuple).\t- An object that produces the next value from an iterable.\n",
        "##B. Method Required -\tMust implement __iter__()\t- Must implement both __iter__() and __next__()\n",
        "##C. Usage -\tUsed to generate an iterator. -\tUsed to fetch the next item in the sequence.\n",
        "##D. State -\tDoes not store iteration state. -\tMaintains the state (remembers where it left off).\n",
        "##D. Reusability -\tCan be reused to create new iterators.\t- Can be exhausted; once exhausted, cannot be reused.\n",
        "##E. Example\t- list, tuple, str, set, dict\t- An object created by calling iter() on an iterable."
      ],
      "metadata": {
        "id": "WQ_Od9A1xwKu"
      }
    },
    {
      "cell_type": "code",
      "source": [
        "# Example to Illustrate the Difference:\n",
        "# Iterable\n",
        "my_string = \"ABC\"  # Strings are iterable\n",
        "for char in my_string:\n",
        "    print(char)  # Output: A, B, C\n",
        "\n",
        "# Iterator\n",
        "my_iter = iter(my_string)  # Create an iterator from the string\n",
        "print(next(my_iter))  # Output: A\n",
        "print(next(my_iter))  # Output: B\n",
        "print(next(my_iter))  # Output: C\n",
        "# next(my_iter)  # Raises StopIteration, since it's exhausted"
      ],
      "metadata": {
        "colab": {
          "base_uri": "https://localhost:8080/"
        },
        "id": "cvjLnQCUxeZw",
        "outputId": "5e11e686-060a-4a94-e4aa-78811a0e0d3c"
      },
      "execution_count": null,
      "outputs": [
        {
          "output_type": "stream",
          "name": "stdout",
          "text": [
            "A\n",
            "B\n",
            "C\n",
            "A\n",
            "B\n",
            "C\n"
          ]
        }
      ]
    },
    {
      "cell_type": "markdown",
      "source": [
        "--------------------------------------------------------------------------------------------------------------------------------------"
      ],
      "metadata": {
        "id": "bVQsCrHMzK9p"
      }
    },
    {
      "cell_type": "markdown",
      "source": [
        "##Q6. Explain the concept of generators in Python and how they are defined."
      ],
      "metadata": {
        "id": "DzC83vk1zKza"
      }
    },
    {
      "cell_type": "markdown",
      "source": [
        "##Ans. Generators in Python are a special type of iterable that allow you to iterate through data one item at a time without storing the entire sequence in memory. This makes them memory-efficient, especially for large datasets or infinite sequences. Instead of returning all values at once, generators produce values lazily, i.e., one at a time, only when requested.\n",
        "\n",
        "##Key Features of Generators:\n",
        "\n",
        "##1. Lazy Evaluation: Generators generate values on the fly and only when requested using the next() function or in a loop.\n",
        "\n",
        "##2. Memory Efficiency: Generators do not store the entire dataset in memory, making them ideal for large or infinite sequences.\n",
        "\n",
        "##3. State Preservation: Generators maintain their state between calls, so each time you request the next item, it resumes from where it left off.\n",
        "\n",
        "##How Generators Are Defined:\n",
        "##Generators are defined using either:\n",
        "\n",
        "##A. Generator Functions: These are regular functions but use the yield keyword instead of return to return values one at a time.\n",
        "\n",
        "##B. Generator Expressions: These are similar to list comprehensions but use parentheses instead of square brackets.\n",
        "\n",
        "##1. Generator Functions\n",
        "## A generator function is defined like a normal function, but it uses yield instead of return. The yield statement pauses the function, saving its state, and resumes execution when the next value is requested.\n",
        "\n",
        "##Example of a Generator Function:"
      ],
      "metadata": {
        "id": "DaWQP8T1zKpy"
      }
    },
    {
      "cell_type": "code",
      "source": [
        "def count_up_to(max_value):\n",
        "    count = 1\n",
        "    while count <= max_value:\n",
        "        yield count\n",
        "        count += 1\n",
        "\n",
        "counter = count_up_to(5)\n",
        "\n",
        "print(next(counter))\n",
        "print(next(counter))\n",
        "print(next(counter))"
      ],
      "metadata": {
        "colab": {
          "base_uri": "https://localhost:8080/"
        },
        "id": "HDKEp-MC0YCt",
        "outputId": "f50bc90b-242f-4b4d-9eba-55c21dd8f460"
      },
      "execution_count": null,
      "outputs": [
        {
          "output_type": "stream",
          "name": "stdout",
          "text": [
            "1\n",
            "2\n",
            "3\n"
          ]
        }
      ]
    },
    {
      "cell_type": "markdown",
      "source": [
        "##2. Generator Expressions\n",
        "\n",
        "##A generator expression is similar to a list comprehension but produces values lazily. It uses parentheses () instead of square brackets [].\n",
        "\n",
        "##Example of a Generator Expression:"
      ],
      "metadata": {
        "id": "X49DGwcZ1OYK"
      }
    },
    {
      "cell_type": "code",
      "source": [
        "square_list = [x**2 for x in range(5)]\n",
        "print(square_list)\n",
        "\n",
        "square_generator = (x**2 for x in range(5))\n",
        "print(next(square_generator))\n",
        "print(next(square_generator))"
      ],
      "metadata": {
        "colab": {
          "base_uri": "https://localhost:8080/"
        },
        "id": "aAwX8_gQ07Ok",
        "outputId": "493d526d-23ac-480f-ea97-4c07baa84232"
      },
      "execution_count": null,
      "outputs": [
        {
          "output_type": "stream",
          "name": "stdout",
          "text": [
            "[0, 1, 4, 9, 16]\n",
            "0\n",
            "1\n"
          ]
        }
      ]
    },
    {
      "cell_type": "markdown",
      "source": [
        "##Key Points about Generator Expressions:\n",
        "\n",
        "##Generator expressions are more memory-efficient than list comprehensions for large datasets because they do not create the entire list in memory.\n",
        "\n",
        "##They are written similarly to list comprehensions but with parentheses."
      ],
      "metadata": {
        "id": "m-uC06je15Vw"
      }
    },
    {
      "cell_type": "markdown",
      "source": [
        "##Advantages of Generators:\n",
        "\n",
        "##A. Memory Efficiency: Since generators yield items one at a time, they are much more memory-efficient than lists, especially for large datasets or infinite sequences.\n",
        "\n",
        "##B. Improved Performance: By yielding results lazily, generators can start returning results immediately without waiting to generate the entire sequence.\n",
        "\n",
        "##C. Infinite Sequences: Generators are suitable for creating infinite sequences because they don’t store the entire sequence in memory."
      ],
      "metadata": {
        "id": "na_CZfOa1_pJ"
      }
    },
    {
      "cell_type": "markdown",
      "source": [
        "------------------------------------------------------------------------------------------------------------------------------------------"
      ],
      "metadata": {
        "id": "-igVyrAE2d3d"
      }
    },
    {
      "cell_type": "markdown",
      "source": [
        "##Q7.\tWhat are the advantages of using generators over regular functions?"
      ],
      "metadata": {
        "id": "X2lRA9fs2dr3"
      }
    },
    {
      "cell_type": "markdown",
      "source": [
        "##Ans. Generators offer several advantages over regular functions, especially when it comes to handling large datasets, memory efficiency, and improving performance. Here are the key advantages of using generators over regular functions in Python:\n",
        "\n",
        "##1. Memory Efficiency:\n",
        "\n",
        "##*Generators: They generate values lazily, meaning they produce one value at a time and only when requested. This reduces memory usage significantly because the entire sequence is not stored in memory at once.\n",
        "\n",
        "##*Regular Functions: A regular function that returns a list or similar structure loads all values into memory at once, which can be inefficient for large datasets.\n",
        "\n",
        "##Example:"
      ],
      "metadata": {
        "id": "9ZIj6PMO2dhw"
      }
    },
    {
      "cell_type": "code",
      "source": [
        "def genrate_numbers():\n",
        "  for i in range(10000000):\n",
        "    yield i\n",
        "\n",
        "def genrate_numbers_list():\n",
        "  return list(range(10000000))\n",
        "\n",
        "import sys\n",
        "print(sys.getsizeof(genrate_numbers()))\n",
        "print(sys.getsizeof(genrate_numbers_list()))"
      ],
      "metadata": {
        "colab": {
          "base_uri": "https://localhost:8080/"
        },
        "id": "eQAWi9lY3joe",
        "outputId": "925408ba-2cac-4d7e-af11-a954a39f2397"
      },
      "execution_count": null,
      "outputs": [
        {
          "output_type": "stream",
          "name": "stdout",
          "text": [
            "104\n",
            "80000056\n"
          ]
        }
      ]
    },
    {
      "cell_type": "markdown",
      "source": [
        "##2. Improved Performance (Lazy Evaluation)\n",
        "\n",
        "##* Generators: They allow for lazy evaluation, meaning that values are computed on-the-fly as they are needed. This can result in better performance since you don’t need to wait for all the values to be generated before starting to process them.\n",
        "##* Regular Functions: With regular functions, the entire dataset is generated or computed upfront before processing can begin, which can slow down performance for large datasets.\n",
        "\n",
        "##Example:"
      ],
      "metadata": {
        "id": "cGBOIBYo4YX2"
      }
    },
    {
      "cell_type": "code",
      "source": [
        "def genrate_squares(n):\n",
        "  for i in range(n):\n",
        "    yield i**2\n",
        "\n",
        "def genrate_squares_list(n):\n",
        "  return [i**2 for i in range(n)]"
      ],
      "metadata": {
        "id": "qs459BMb39bp"
      },
      "execution_count": null,
      "outputs": []
    },
    {
      "cell_type": "markdown",
      "source": [
        "##3. Handling Infinite Sequences\n",
        "\n",
        "##*Generators: Because generators produce values on demand, they are well-suited to generating infinite sequences or streams of data. They can continue producing values indefinitely without exhausting memory.\n",
        "\n",
        "##*Regular Functions: A regular function cannot handle infinite sequences effectively, as it would attempt to generate all values at once, leading to memory overflow.\n",
        "\n",
        "##Example:"
      ],
      "metadata": {
        "id": "Ckdx5rMTcynw"
      }
    },
    {
      "cell_type": "code",
      "source": [
        "def infinite_count():\n",
        "  count = 1\n",
        "  while True:\n",
        "    yield count\n",
        "    count += 1"
      ],
      "metadata": {
        "id": "YlLaEdsc48d2"
      },
      "execution_count": null,
      "outputs": []
    },
    {
      "cell_type": "markdown",
      "source": [
        "##4. State Preservation\n",
        "\n",
        "##* Generators: They preserve the state of local variables and execution context between successive calls. This makes them ideal for tasks where you need to pause execution and resume later (e.g., iterating through large datasets in chunks).\n",
        "\n",
        "##* Regular Functions: Once a regular function completes, it doesn’t preserve any state. You would need to explicitly manage state with variables, which can lead to more complex code.\n",
        "\n",
        "##Example:\n"
      ],
      "metadata": {
        "id": "8LvpQoAmeFWt"
      }
    },
    {
      "cell_type": "code",
      "source": [
        "def countdown(n):\n",
        "  while n > 0:\n",
        "    yield n\n",
        "    n -= 1"
      ],
      "metadata": {
        "id": "tqNWeAmOduDq"
      },
      "execution_count": null,
      "outputs": []
    },
    {
      "cell_type": "markdown",
      "source": [
        "##5. Cleaner and More Readable Code\n",
        "\n",
        "##* Generators: In scenarios where you need to process large datasets or work with streams of data, generators provide a clean, efficient way to iterate through items without needing to manage lists, intermediate states, or large memory buffers.\n",
        "\n",
        "##* Regular Functions: A regular function that returns large datasets requires more management of memory and state, leading to more complex and less readable code.\n",
        "\n",
        "##Example:"
      ],
      "metadata": {
        "id": "9GuBN7p4ef0O"
      }
    },
    {
      "cell_type": "code",
      "source": [
        "def read_large_number(filename):\n",
        "  with open(filename, 'r') as file:\n",
        "    for line in file:\n",
        "      yield line #Yields one line at a time"
      ],
      "metadata": {
        "id": "EZzP0NbfecDK"
      },
      "execution_count": null,
      "outputs": []
    },
    {
      "cell_type": "markdown",
      "source": [
        "##6. Simplifying Complex Iterations\n",
        "\n",
        "##* Generators: They simplify complex iterations by encapsulating the iteration logic within the function itself. For example, recursive algorithms or complex data pipelines can be simplified using generators.\n",
        "\n",
        "##*Regular Functions: Managing complex iterations with regular functions can result in more cumbersome code, as you would need to handle iteration logic manually.\n",
        "\n",
        "##Example:"
      ],
      "metadata": {
        "id": "N6m396GCfF0S"
      }
    },
    {
      "cell_type": "code",
      "source": [
        "def fibonacci_generator():\n",
        "  a, b = 0, 1\n",
        "  while True:\n",
        "    yield a\n",
        "    a, b = b, a + b"
      ],
      "metadata": {
        "id": "dg1_SJSge4E1"
      },
      "execution_count": null,
      "outputs": []
    },
    {
      "cell_type": "markdown",
      "source": [
        "-------------------------------------------------------------------------------------------------------------------------------------------"
      ],
      "metadata": {
        "id": "cza4oPMlinGn"
      }
    },
    {
      "cell_type": "markdown",
      "source": [
        "##Q8.\tWhat is a lambda function in Python and when is it typically used?"
      ],
      "metadata": {
        "id": "S8H5_OljgfrL"
      }
    },
    {
      "cell_type": "markdown",
      "source": [
        "##Ans. A lambda function in Python is a small, anonymous function defined using the lambda keyword. It is also known as an inline function because it is typically used for short, simple operations that can be expressed in a single line of code. Unlike regular functions defined using def, lambda functions do not have a name and are often used in situations where a simple function is required for a short period of time.\n",
        "\n",
        "##Syntax of a Lambda Function:\n",
        "\n",
        "##The general syntax of a lambda function is:"
      ],
      "metadata": {
        "id": "-Qu1-27Iggcr"
      }
    },
    {
      "cell_type": "code",
      "source": [
        "lambda arguments: expression"
      ],
      "metadata": {
        "colab": {
          "base_uri": "https://localhost:8080/"
        },
        "id": "4IukLGEwisS1",
        "outputId": "cc2d96e2-f5c6-4e71-9d6f-c8b4bdc9cb42"
      },
      "execution_count": null,
      "outputs": [
        {
          "output_type": "execute_result",
          "data": {
            "text/plain": [
              "<function __main__.<lambda>(arguments)>"
            ]
          },
          "metadata": {},
          "execution_count": 9
        }
      ]
    },
    {
      "cell_type": "markdown",
      "source": [
        "##* lambda: This keyword is used to define the anonymous function.\n",
        "\n",
        "##* arguments: A comma-separated list of arguments (like regular functions).\n",
        "\n",
        "##* expression: A single expression that is evaluated and returned. Unlike def functions, lambda functions can only contain one expression and cannot include complex logic, multiple statements, or assignments.\n",
        "\n",
        "##Example of a Lambda Function:"
      ],
      "metadata": {
        "id": "GYIfhowOi_7L"
      }
    },
    {
      "cell_type": "code",
      "source": [
        "add = lambda x, y: x + y"
      ],
      "metadata": {
        "id": "nksrhLkDi_E-"
      },
      "execution_count": null,
      "outputs": []
    },
    {
      "cell_type": "code",
      "source": [
        "print(add(5, 3))"
      ],
      "metadata": {
        "colab": {
          "base_uri": "https://localhost:8080/"
        },
        "id": "RDI-BfC9jfxp",
        "outputId": "45edca49-02f6-43d1-d7c6-66d2b92bb932"
      },
      "execution_count": null,
      "outputs": [
        {
          "output_type": "stream",
          "name": "stdout",
          "text": [
            "8\n"
          ]
        }
      ]
    },
    {
      "cell_type": "markdown",
      "source": [
        "##When to Use Lambda Functions:\n",
        "\n",
        "##Lambda functions are typically used in situations where a small, temporary function is required without needing to formally define a full def function. They are commonly used with functions that take other functions as arguments, such as in functional programming and higher-order functions like map(), filter(), and sorted().\n",
        "\n",
        "##Common Use Cases for Lambda Functions:\n",
        "\n",
        "##1. Using with map() Function\n",
        "\n",
        "##The map() function applies a given function to all items in an iterable (such as a list) and returns a new iterable."
      ],
      "metadata": {
        "id": "mxazZxA1j1R-"
      }
    },
    {
      "cell_type": "code",
      "source": [
        "numbers = [1, 2, 3, 4, 5]\n",
        "squared = list(map(lambda x: x**2, numbers))\n",
        "print(squared)"
      ],
      "metadata": {
        "colab": {
          "base_uri": "https://localhost:8080/"
        },
        "id": "4NdUZPKSjwd0",
        "outputId": "0d697c89-f220-432c-cbb0-f7cc27c1ec0e"
      },
      "execution_count": null,
      "outputs": [
        {
          "output_type": "stream",
          "name": "stdout",
          "text": [
            "[1, 4, 9, 16, 25]\n"
          ]
        }
      ]
    },
    {
      "cell_type": "markdown",
      "source": [
        "##2. Using with filter() Function\n",
        "The filter() function applies a function to an iterable and returns the elements for which the function returns True."
      ],
      "metadata": {
        "id": "pkoVRYzNlhVp"
      }
    },
    {
      "cell_type": "code",
      "source": [
        "numbers = [1, 2, 3, 4, 5]\n",
        "even_numbers = list(filter(lambda x: x % 2 == 0, numbers))\n",
        "print(even_numbers)"
      ],
      "metadata": {
        "colab": {
          "base_uri": "https://localhost:8080/"
        },
        "id": "jMW8wlXnld4b",
        "outputId": "c94c22a0-3f02-4a0d-bff3-15e9419e9933"
      },
      "execution_count": null,
      "outputs": [
        {
          "output_type": "stream",
          "name": "stdout",
          "text": [
            "[2, 4]\n"
          ]
        }
      ]
    },
    {
      "cell_type": "markdown",
      "source": [
        "##3. Using with sorted() Function\n",
        "\n",
        "##The sorted() function can take a key parameter, which is a function used to determine the sort order."
      ],
      "metadata": {
        "id": "3oiVqAp9ls7B"
      }
    },
    {
      "cell_type": "code",
      "source": [
        "points = [(1, 2), (4, 1), (3, 5)]\n",
        "sorted_points = sorted(points, key=lambda x: x[1])\n",
        "print(sorted_points)"
      ],
      "metadata": {
        "colab": {
          "base_uri": "https://localhost:8080/"
        },
        "id": "21HsESzdlp25",
        "outputId": "db6f560d-6594-4072-d028-81061f6741eb"
      },
      "execution_count": null,
      "outputs": [
        {
          "output_type": "stream",
          "name": "stdout",
          "text": [
            "[(4, 1), (1, 2), (3, 5)]\n"
          ]
        }
      ]
    },
    {
      "cell_type": "markdown",
      "source": [
        "##4. Using with reduce() Function\n",
        "\n",
        "##The reduce() function (from functools module) applies a function cumulatively to the items of a sequence to reduce the sequence to a single value."
      ],
      "metadata": {
        "id": "fQ4dLEIxl-NZ"
      }
    },
    {
      "cell_type": "code",
      "source": [
        "from functools import reduce\n",
        "\n",
        "numbers = [1, 2, 3, 4, 5]\n",
        "product = reduce(lambda x, y: x * y, numbers)\n",
        "\n",
        "print(product)"
      ],
      "metadata": {
        "colab": {
          "base_uri": "https://localhost:8080/"
        },
        "id": "NUzgcLpul1lc",
        "outputId": "275910b7-cffa-42dc-b665-4a4e65623683"
      },
      "execution_count": null,
      "outputs": [
        {
          "output_type": "stream",
          "name": "stdout",
          "text": [
            "120\n"
          ]
        }
      ]
    },
    {
      "cell_type": "markdown",
      "source": [
        "------------------------------------------------------------------------------------------------------------------------------------"
      ],
      "metadata": {
        "id": "IrwMEdFJrBTn"
      }
    },
    {
      "cell_type": "markdown",
      "source": [
        "##Q9. Explain the purpose and usage of the 'map()' function in Python."
      ],
      "metadata": {
        "id": "gkIDUyTtrBJc"
      }
    },
    {
      "cell_type": "markdown",
      "source": [
        "##Ans. The map() function in Python is used to apply a given function to all items in an iterable (such as a list, tuple, or set) and return a new iterable (usually a map object). The map() function is a higher-order function, meaning it takes another function as its first argument and applies it to every item in the provided iterable(s).\n",
        "\n",
        "##Purpose of map():\n",
        "\n",
        "##The primary purpose of map() is to transform each element in an iterable by applying a specified function to it, making it useful for operations where you want to apply the same transformation or computation to multiple elements in a sequence.\n",
        "\n",
        "##The map() function does not modify the original iterable but instead returns a new iterable with the transformed elements.\n",
        "\n",
        "##Syntax:"
      ],
      "metadata": {
        "id": "hRhQw10DrA_t"
      }
    },
    {
      "cell_type": "code",
      "source": [
        "#map(function, iterable)"
      ],
      "metadata": {
        "id": "yOBe_6DOr1Ne"
      },
      "execution_count": null,
      "outputs": []
    },
    {
      "cell_type": "markdown",
      "source": [
        "##* function: A function that is applied to each element in the iterable(s). This can be a regular function, lambda function, or any callable.\n",
        "\n",
        "##* iterable: One or more iterables (e.g., lists, tuples, sets). If multiple iterables are provided, the function should accept as many arguments as there are iterables.\n",
        "\n",
        "##Return Value:\n",
        "\n",
        "##map() returns an iterator (a map object) that contains the results of applying the function to the items of the iterable(s). You can convert this iterator into a list, tuple, or other sequence types if needed.\n",
        "\n",
        "##Example 1: Using map() with a Regular Function:"
      ],
      "metadata": {
        "id": "WybHaB-ksbEr"
      }
    },
    {
      "cell_type": "code",
      "source": [
        "def double(x):\n",
        "    return x * 2\n",
        "\n",
        "numbers = [1, 2, 3, 4, 5]\n",
        "doubled = map(double, numbers)\n",
        "print(list(doubled))"
      ],
      "metadata": {
        "colab": {
          "base_uri": "https://localhost:8080/"
        },
        "id": "W6tIuO31r8iv",
        "outputId": "8ba1079e-c304-48fa-c6c0-5fd8552dbeb3"
      },
      "execution_count": null,
      "outputs": [
        {
          "output_type": "stream",
          "name": "stdout",
          "text": [
            "[2, 4, 6, 8, 10]\n"
          ]
        }
      ]
    },
    {
      "cell_type": "markdown",
      "source": [
        "##Example 2: Using map() with a Lambda Function:\n",
        "\n",
        "##Lambda functions are often used with map() for short, simple transformations since they allow for concise, inline function definitions."
      ],
      "metadata": {
        "id": "uh-kYpaOttvE"
      }
    },
    {
      "cell_type": "code",
      "source": [
        "numbers = [1, 2, 3, 4, 5]\n",
        "squared = map(lambda x: x**2, numbers)\n",
        "print(list(squared))"
      ],
      "metadata": {
        "colab": {
          "base_uri": "https://localhost:8080/"
        },
        "id": "IAb_b--IsvsI",
        "outputId": "2f5d2d75-9441-430f-8d8c-06b175ab5306"
      },
      "execution_count": null,
      "outputs": [
        {
          "output_type": "stream",
          "name": "stdout",
          "text": [
            "[1, 4, 9, 16, 25]\n"
          ]
        }
      ]
    },
    {
      "cell_type": "markdown",
      "source": [
        "##Example 3: Using map() with Multiple Iterables:\n",
        "\n",
        "##If you provide multiple iterables to map(), the function should take as many arguments as there are iterables. map() will apply the function element-wise by combining elements from each iterable."
      ],
      "metadata": {
        "id": "g_Z7Spaut7yQ"
      }
    },
    {
      "cell_type": "code",
      "source": [
        "numbers1 = [1, 2, 3]\n",
        "numbers2 = [4, 5, 6]\n",
        "result = map(lambda x, y: x + y, numbers1, numbers2)\n",
        "print(list(result))"
      ],
      "metadata": {
        "colab": {
          "base_uri": "https://localhost:8080/"
        },
        "id": "iDN_oz_lt5WS",
        "outputId": "4ed4ffc4-6012-493f-98af-b5e352b854d3"
      },
      "execution_count": null,
      "outputs": [
        {
          "output_type": "stream",
          "name": "stdout",
          "text": [
            "[5, 7, 9]\n"
          ]
        }
      ]
    },
    {
      "cell_type": "markdown",
      "source": [
        "##Common Use Cases of map():\n",
        "\n",
        "##1. Transforming Data:\n",
        "\n",
        "##map() is useful for transforming data when you need to apply the same operation to every element in a collection. For example, converting all strings in a list to uppercase:"
      ],
      "metadata": {
        "id": "5JH69DYuuwpW"
      }
    },
    {
      "cell_type": "code",
      "source": [
        "words = [\"hello\", \"world\", \"python\"]\n",
        "uppercase_words = map(str.upper, words)\n",
        "print(list(uppercase_words))"
      ],
      "metadata": {
        "colab": {
          "base_uri": "https://localhost:8080/"
        },
        "id": "RMqhVnNZugAH",
        "outputId": "6132c918-9fde-4584-c7f3-b9534c76b51f"
      },
      "execution_count": null,
      "outputs": [
        {
          "output_type": "stream",
          "name": "stdout",
          "text": [
            "['HELLO', 'WORLD', 'PYTHON']\n"
          ]
        }
      ]
    },
    {
      "cell_type": "markdown",
      "source": [
        "##2. Applying Mathematical Operations:\n",
        "\n",
        "##You can use map() to apply mathematical operations to all elements in a list or tuple, such as squaring numbers."
      ],
      "metadata": {
        "id": "lrPEjFEbvIGp"
      }
    },
    {
      "cell_type": "markdown",
      "source": [
        "##3. Handling Multiple Lists Simultaneously:\n",
        "map() is useful when combining data from multiple lists. For example, finding the sum of corresponding elements from two lists."
      ],
      "metadata": {
        "id": "RexM50H7xRmJ"
      }
    },
    {
      "cell_type": "code",
      "source": [
        "# Two lists of numbers\n",
        "list1 = [1, 2, 3, 4]\n",
        "list2 = [10, 20, 30, 40]\n",
        "\n",
        "# Use map with lambda to sum corresponding elements\n",
        "result = map(lambda x, y: x + y, list1, list2)\n",
        "\n",
        "# Convert the map object to a list to view the results\n",
        "print(list(result))  # Output: [11, 22, 33, 44]"
      ],
      "metadata": {
        "id": "3l-3_0sYxs0W"
      },
      "execution_count": null,
      "outputs": []
    },
    {
      "cell_type": "markdown",
      "source": [
        "---------------------------------------------------------------------------------------------------------------------------------"
      ],
      "metadata": {
        "id": "BUfVeIVv5mi0"
      }
    },
    {
      "cell_type": "markdown",
      "source": [
        "##Q10. What is the difference between 'map()', 'reduce()' and 'filter()' functions in Python?"
      ],
      "metadata": {
        "id": "c_fwBEgU52TK"
      }
    },
    {
      "cell_type": "markdown",
      "source": [
        "##Ans. In Python, map(), filter(), and reduce() are functional programming tools that operate on iterables (e.g., lists, tuples, etc.) and allow for transformation, selection, or reduction of data. Each of these functions serves a different purpose. Let's look at the key differences between them:\n",
        "\n",
        "##1. map() Function\n",
        "\n",
        "##Purpose: map() applies a function to every item of an iterable (or multiple iterables) and returns a new iterable (usually a map object).\n",
        "\n",
        "##Input: One or more iterables and a function.\n",
        "\n",
        "##Output: Transformed iterable (as a map object, which can be converted into a list, tuple, etc.).\n",
        "\n",
        "##Example:"
      ],
      "metadata": {
        "id": "1C_UcoNJ516s"
      }
    },
    {
      "cell_type": "code",
      "source": [
        "# Using map() to double each element in the list\n",
        "numbers = [1, 2, 3, 4]\n",
        "result = map(lambda x: x * 2, numbers)\n",
        "print(list(result))  # Output: [2, 4, 6, 8]"
      ],
      "metadata": {
        "collapsed": true,
        "id": "BQCu8nh64HxN"
      },
      "execution_count": null,
      "outputs": []
    },
    {
      "cell_type": "markdown",
      "source": [
        "##Key Points:\n",
        "##* It applies a function to each item in the iterable(s).\n",
        "\n",
        "##* It returns an iterable of the same length as the input.\n",
        "\n",
        "##* Common use: To transform or apply operations to elements of a sequence.\n"
      ],
      "metadata": {
        "id": "rzaAgt8l7OCv"
      }
    },
    {
      "cell_type": "markdown",
      "source": [
        "##2. filter() Function\n",
        "\n",
        "##* Purpose: filter() applies a function that returns a Boolean (True or False) to each element in an iterable and filters out all elements for which the function returns False.\n",
        "\n",
        "##* Input: An iterable and a filtering function that returns a Boolean.\n",
        "\n",
        "##* Output: An iterable containing only elements for which the function returns True.\n",
        "\n",
        "##*Example:"
      ],
      "metadata": {
        "id": "D385y0H67j_n"
      }
    },
    {
      "cell_type": "code",
      "source": [
        "# Using filter() to get only even numbers from the list\n",
        "numbers = [1, 2, 3, 4, 5, 6]\n",
        "result = filter(lambda x: x % 2 == 0, numbers)\n",
        "print(list(result))  # Output: [2, 4, 6]"
      ],
      "metadata": {
        "id": "ySbUdI4x65Fy"
      },
      "execution_count": null,
      "outputs": []
    },
    {
      "cell_type": "markdown",
      "source": [
        "##Key Points:\n",
        "##* It filters elements from an iterable based on a condition.\n",
        "##* The output iterable contains only elements for which the function evaluates to True.\n",
        "##* Common use: To filter elements based on a condition (e.g., selecting only even numbers from a list).\n"
      ],
      "metadata": {
        "id": "qtCg7J8_8Nfm"
      }
    },
    {
      "cell_type": "markdown",
      "source": [
        "##3. reduce() Function\n",
        "\n",
        "##Purpose: reduce() applies a function to pairs of elements from an iterable and reduces the iterable to a single cumulative value. It works by applying the function cumulatively to the items (like folding or aggregation).\n",
        "\n",
        "##Input: An iterable and a binary function (a function that takes two arguments).\n",
        "\n",
        "##Output: A single value that results from applying the function cumulatively across the iterable.\n",
        "\n",
        "##Example:"
      ],
      "metadata": {
        "id": "oiJaNByx8Nbu"
      }
    },
    {
      "cell_type": "code",
      "source": [
        "numbers = [1, 2, 3, 4, 5]\n",
        "from functools import reduce\n",
        "result = reduce(lambda x, y: x + y, numbers)\n",
        "print(result)"
      ],
      "metadata": {
        "colab": {
          "base_uri": "https://localhost:8080/"
        },
        "id": "rzf6_u3171cI",
        "outputId": "8f165665-5780-491d-bc3c-71ad6023044c"
      },
      "execution_count": null,
      "outputs": [
        {
          "output_type": "stream",
          "name": "stdout",
          "text": [
            "15\n"
          ]
        }
      ]
    },
    {
      "cell_type": "markdown",
      "source": [
        "##Key Points:\n",
        "\n",
        "##* It reduces an iterable to a single value by applying a binary function (e.g., summing or multiplying elements).\n",
        "\n",
        "##* Unlike map() or filter(), reduce() returns a single value, not an iterable.\n",
        "\n",
        "##*Common use: To accumulate or aggregate values (e.g., finding the sum or product of all elements in a list).\n",
        "\n",
        "##Example of All Three Functions Together:\n"
      ],
      "metadata": {
        "id": "uTyUjIks9u-L"
      }
    },
    {
      "cell_type": "code",
      "source": [
        "from functools import reduce\n",
        "\n",
        "# List of numbers\n",
        "numbers = [1, 2, 3, 4, 5, 6]\n",
        "\n",
        "# 1. Use map() to square each number\n",
        "squared_numbers = map(lambda x: x ** 2, numbers)  # [1, 4, 9, 16, 25, 36]\n",
        "\n",
        "# 2. Use filter() to select only even numbers\n",
        "even_numbers = filter(lambda x: x % 2 == 0, squared_numbers)  # [4, 16, 36]\n",
        "\n",
        "# 3. Use reduce() to find the sum of the remaining numbers\n",
        "sum_of_evens = reduce(lambda x, y: x + y, even_numbers)  # 56\n",
        "\n",
        "print(sum_of_evens)"
      ],
      "metadata": {
        "colab": {
          "base_uri": "https://localhost:8080/"
        },
        "id": "rfR5MATa9rkM",
        "outputId": "22805fb6-a090-4fa5-9d2f-0ed42bd56284"
      },
      "execution_count": null,
      "outputs": [
        {
          "output_type": "stream",
          "name": "stdout",
          "text": [
            "56\n"
          ]
        }
      ]
    },
    {
      "cell_type": "markdown",
      "source": [],
      "metadata": {
        "id": "KmAkwAZS-ZWQ"
      }
    },
    {
      "cell_type": "markdown",
      "source": [
        "##Feature\t-  map() -\t filter() -  reduce()\n",
        "##1. Purpose -\tApply a function to each element\t- Select elements based on a condition - Reduce iterable to a single value\n",
        "##2. Input - Function and iterable(s)\t- Function (Boolean) and iterable -\tFunction (binary) and iterable\n",
        "##3. Output\tIterable (transformed elements)\t- Iterable (filtered elements)\t- Single value (aggregated result)\n",
        "##4. Returns -\tA map object (can be converted)\t- A filter object (can be converted)\t- A single result value\n",
        "##5. Example Use\t- Apply a transformation (e.g., square elements)\t- Filter based on condition (e.g., select even numbers)\t- Aggregate (e.g., sum, product of list)\n",
        "##6. Length\t- Same length as input\t- Equal or less than input length\t- Single value"
      ],
      "metadata": {
        "id": "izHIiJnL-ajm"
      }
    },
    {
      "cell_type": "markdown",
      "source": [
        "------------------------------------------------------------------------------------------------------------------------------------"
      ],
      "metadata": {
        "id": "xmA0cwfQB2iu"
      }
    },
    {
      "cell_type": "markdown",
      "source": [
        "##Q11. Using pen & Paper write the internal mechanism for sum operation using reduce function on this given:-\n",
        "\n",
        "##list:[47,11,42,13];"
      ],
      "metadata": {
        "id": "9NrNVN7dl2p6"
      }
    },
    {
      "cell_type": "markdown",
      "source": [
        "##Ans. Link of Google Doc File:-  https://docs.google.com/document/d/1D0ZkONLFbXLGxZxYhCsoR9HcdMBt-fsanBiS2HE_wmM/edit?usp=sharing\n",
        "\n",
        "\n",
        "Also uploded pdf file to Github Repositories."
      ],
      "metadata": {
        "id": "06tciaA_l2gq"
      }
    },
    {
      "cell_type": "markdown",
      "source": [
        "--------------------------------------------------------------------------------------------------------------------------------"
      ],
      "metadata": {
        "id": "FzoRIrI-zv0A"
      }
    },
    {
      "cell_type": "markdown",
      "source": [
        "--------------------------------------------------------------------------------------------------------------------------------------"
      ],
      "metadata": {
        "id": "emDD2oZQzvfy"
      }
    },
    {
      "cell_type": "markdown",
      "source": [
        "#Practicle Questions:"
      ],
      "metadata": {
        "id": "YWnme9HRzvSU"
      }
    },
    {
      "cell_type": "markdown",
      "source": [
        "##Q1.\tWrite a Python function that takes a list of numbers as input and returns the sum of all even numbers in the list."
      ],
      "metadata": {
        "id": "pZrkNiEl1LOG"
      }
    },
    {
      "cell_type": "markdown",
      "source": [
        "##Ans. Python function that takes a list of numbers as input and returns the sum of all even numbers in the list:"
      ],
      "metadata": {
        "id": "4v3aTyCV1MD6"
      }
    },
    {
      "cell_type": "code",
      "source": [
        "def sum_of_even_numbers(numbers):\n",
        "    sum_even = 0\n",
        "    for num in numbers:\n",
        "        if num % 2 == 0:\n",
        "            sum_even += num\n",
        "    return sum_even\n",
        "\n",
        "\n",
        "numbers = [1, 2, 3, 4, 5, 6, 7, 8, 9, 10]\n",
        "result = sum_of_even_numbers(numbers)\n",
        "print(result)"
      ],
      "metadata": {
        "colab": {
          "base_uri": "https://localhost:8080/"
        },
        "id": "WAw9Egav1ZLB",
        "outputId": "9b5aa7b9-6a12-4c3c-a578-23999b2fb3b4"
      },
      "execution_count": 5,
      "outputs": [
        {
          "output_type": "stream",
          "name": "stdout",
          "text": [
            "30\n"
          ]
        }
      ]
    },
    {
      "cell_type": "markdown",
      "source": [
        "##Q2.\tCreate a Python function that accepts a string and returns the reverse of that string."
      ],
      "metadata": {
        "id": "dpZpUlMG4Pzh"
      }
    },
    {
      "cell_type": "markdown",
      "source": [
        "##Ans. Python function that accepts a string and returns the reverse of that string:"
      ],
      "metadata": {
        "id": "cUmtgzjk4PNR"
      }
    },
    {
      "cell_type": "code",
      "source": [
        "def reverse_string(string):\n",
        "    return string[::-1]\n",
        "\n",
        "\n",
        "input_string = \"Hello, World!\"\n",
        "reversed_string = reverse_string(input_string)\n",
        "print(reversed_string)"
      ],
      "metadata": {
        "colab": {
          "base_uri": "https://localhost:8080/"
        },
        "id": "_sgq-khQ3_Ir",
        "outputId": "87fbc378-f040-45d2-90d6-7fbe02186c54"
      },
      "execution_count": 6,
      "outputs": [
        {
          "output_type": "stream",
          "name": "stdout",
          "text": [
            "!dlroW ,olleH\n"
          ]
        }
      ]
    },
    {
      "cell_type": "markdown",
      "source": [
        "-----------------------------------------------------------------------------------------------------------------------------------------"
      ],
      "metadata": {
        "id": "Beywylss6Agu"
      }
    },
    {
      "cell_type": "markdown",
      "source": [
        "##Q3.\tImplement a Python function that takes a list of integers and returns a new list containing the squares of each number."
      ],
      "metadata": {
        "id": "FpQEKB2f6APS"
      }
    },
    {
      "cell_type": "markdown",
      "source": [
        "##Ans. Python function that takes a list of integers and returns a new list containing the squares of each number:"
      ],
      "metadata": {
        "id": "b4BErd4J5_lh"
      }
    },
    {
      "cell_type": "code",
      "source": [
        "def square_numbers(numbers):\n",
        "    squared_numbers = [num ** 2 for num in numbers]\n",
        "    return squared_numbers\n",
        "\n",
        "\n",
        "numbers = [1, 2, 3, 4, 5, 6, 7, 8, 9]\n",
        "squared_numbers = square_numbers(numbers)\n",
        "print(squared_numbers)"
      ],
      "metadata": {
        "colab": {
          "base_uri": "https://localhost:8080/"
        },
        "id": "3DhCd5mO5NAH",
        "outputId": "e9942d98-c2e6-4d92-d502-f02fe8cedb2d"
      },
      "execution_count": 11,
      "outputs": [
        {
          "output_type": "stream",
          "name": "stdout",
          "text": [
            "[1, 4, 9, 16, 25, 36, 49, 64, 81]\n"
          ]
        }
      ]
    },
    {
      "cell_type": "markdown",
      "source": [
        "-----------------------------------------------------------------------------------------------------------------------------------"
      ],
      "metadata": {
        "id": "lU51l-SWB4TI"
      }
    },
    {
      "cell_type": "markdown",
      "source": [
        "##Q4.\tWrite a Python function that checks if a given number is prime or not from 1 to 200."
      ],
      "metadata": {
        "id": "KGfaM5ZL8iHh"
      }
    },
    {
      "cell_type": "markdown",
      "source": [
        "##Ans. Python function that checks if a given number is prime or not from 1 to 200:"
      ],
      "metadata": {
        "id": "IskYhEgw8h7E"
      }
    },
    {
      "cell_type": "code",
      "source": [
        "def is_prime(num):\n",
        "    if num < 2:\n",
        "        return False\n",
        "\n",
        "    for i in range(2, int(num ** 0.5) + 1):\n",
        "      if num % i == 0:\n",
        "        return False\n",
        "    return True\n",
        "\n",
        "for num in range(1, 201):\n",
        "    if is_prime(num):\n",
        "      print(num)"
      ],
      "metadata": {
        "colab": {
          "base_uri": "https://localhost:8080/"
        },
        "id": "8BplNU8m_-xa",
        "outputId": "786ee1d0-5208-4455-ba51-abf89bd1f83e"
      },
      "execution_count": 18,
      "outputs": [
        {
          "output_type": "stream",
          "name": "stdout",
          "text": [
            "2\n",
            "3\n",
            "5\n",
            "7\n",
            "11\n",
            "13\n",
            "17\n",
            "19\n",
            "23\n",
            "29\n",
            "31\n",
            "37\n",
            "41\n",
            "43\n",
            "47\n",
            "53\n",
            "59\n",
            "61\n",
            "67\n",
            "71\n",
            "73\n",
            "79\n",
            "83\n",
            "89\n",
            "97\n",
            "101\n",
            "103\n",
            "107\n",
            "109\n",
            "113\n",
            "127\n",
            "131\n",
            "137\n",
            "139\n",
            "149\n",
            "151\n",
            "157\n",
            "163\n",
            "167\n",
            "173\n",
            "179\n",
            "181\n",
            "191\n",
            "193\n",
            "197\n",
            "199\n"
          ]
        }
      ]
    },
    {
      "cell_type": "markdown",
      "source": [
        "-------------------------------------------------------------------------------------------------------------------------------------"
      ],
      "metadata": {
        "id": "HB3lWj3KB1wE"
      }
    },
    {
      "cell_type": "markdown",
      "source": [
        "##Q5.\tCreate an iterator class in Python that generates the Fibonacci sequence up to a specified number of terms."
      ],
      "metadata": {
        "id": "GZFNIox1B1j2"
      }
    },
    {
      "cell_type": "markdown",
      "source": [
        "##Ans. Iterator class in Python that generates the Fibonacci sequence up to a specified number of terms:"
      ],
      "metadata": {
        "id": "AFw5ZeEmB7V_"
      }
    },
    {
      "cell_type": "code",
      "source": [
        "class fibonacciiterator:\n",
        "  def __init__(self, n):\n",
        "    self.n = n\n",
        "    self.a, self.b = 0, 1\n",
        "\n",
        "  def __iter__(self):\n",
        "    return self\n",
        "\n",
        "  def __next__(self):\n",
        "    if self.n <= 0:\n",
        "      raise StopIteration\n",
        "    result = self.a\n",
        "    self.a, self.b = self.b, self.a + self.b\n",
        "    self.n -= 1\n",
        "    return result\n",
        "\n",
        "fib_iterator = fibonacciiterator(10)\n",
        "\n",
        "for num in fib_iterator:\n",
        "  print(num, end=\" \")"
      ],
      "metadata": {
        "colab": {
          "base_uri": "https://localhost:8080/"
        },
        "id": "2BXYTM7xA-5Z",
        "outputId": "1c33d333-e9dd-4196-baa8-cd7d553d254e"
      },
      "execution_count": 19,
      "outputs": [
        {
          "output_type": "stream",
          "name": "stdout",
          "text": [
            "0 1 1 2 3 5 8 13 21 34 "
          ]
        }
      ]
    },
    {
      "cell_type": "markdown",
      "source": [
        "-----------------------------------------------------------------------------------------------------------------------------------"
      ],
      "metadata": {
        "id": "NwUf_JyAFpkU"
      }
    },
    {
      "cell_type": "markdown",
      "source": [
        "##Q6.\tWrite a generator function in Python that yields the powers of 2 up to a given exponent."
      ],
      "metadata": {
        "id": "G1FEE-7SFzAN"
      }
    },
    {
      "cell_type": "markdown",
      "source": [
        "##Ans. Generator function in Python that yields the powers of 2 up to a given exponent:"
      ],
      "metadata": {
        "id": "1yuBB1U_FpU7"
      }
    },
    {
      "cell_type": "code",
      "source": [
        "def power_of_two(max_exponent):\n",
        "  power = 0\n",
        "  while power <= max_exponent:\n",
        "    yield 2 ** power\n",
        "    power += 1\n",
        "\n",
        "for power in power_of_two(5):\n",
        "  print(power, end=\" \")"
      ],
      "metadata": {
        "colab": {
          "base_uri": "https://localhost:8080/"
        },
        "id": "32k1fY2AFk5n",
        "outputId": "ef7c70f3-8907-4b60-b31d-b0adb6d130d5"
      },
      "execution_count": 20,
      "outputs": [
        {
          "output_type": "stream",
          "name": "stdout",
          "text": [
            "1 2 4 8 16 32 "
          ]
        }
      ]
    },
    {
      "cell_type": "markdown",
      "source": [
        "------------------------------------------------------------------------------------------------------------------------------------"
      ],
      "metadata": {
        "id": "qp3x9fFqG1ry"
      }
    },
    {
      "cell_type": "markdown",
      "source": [
        "##Q7. Implement a generator function that reads a file line by line and yields each line as a string."
      ],
      "metadata": {
        "id": "WBngR2hCG1gj"
      }
    },
    {
      "cell_type": "markdown",
      "source": [
        "##Ans. generator function that reads a file line by line and yields each line as a string:"
      ],
      "metadata": {
        "id": "T1mven1iG1VY"
      }
    },
    {
      "cell_type": "code",
      "source": [
        "def read_file_line_by_line(file_path):\n",
        "    with open(file_path, 'r') as file:\n",
        "        for line in file:\n",
        "            yield line.strip()  # Yield each line, removing the newline character\n",
        "\n",
        "# Example usage:\n",
        "# Assuming 'example.txt' is a file with some text content\n",
        "for line in read_file_line_by_line('example.txt'):\n",
        "    print(line)"
      ],
      "metadata": {
        "id": "Nf81rrF2HU0b"
      },
      "execution_count": null,
      "outputs": []
    },
    {
      "cell_type": "markdown",
      "source": [
        "-------------------------------------------------------------------------------------------------------------------------------"
      ],
      "metadata": {
        "id": "CCCxvmzeJg7z"
      }
    },
    {
      "cell_type": "markdown",
      "source": [
        "##Q8.\tUse a lambda function in Python to sort a list of tuples based on the second element of each tuple."
      ],
      "metadata": {
        "id": "EiZtOLnVJgl9"
      }
    },
    {
      "cell_type": "markdown",
      "source": [
        "##Ans. lambda function in Python to sort a list of tuples based on the second element of each tuple:"
      ],
      "metadata": {
        "id": "TvqG1_heJgX5"
      }
    },
    {
      "cell_type": "code",
      "source": [
        "tuple_list = [(1, 3), (3, 2), (2, 1), (4, 5)]\n",
        "\n",
        "sorted_list = sorted(tuple_list, key=lambda x: x[1])\n",
        "\n",
        "print(sorted_list)"
      ],
      "metadata": {
        "colab": {
          "base_uri": "https://localhost:8080/"
        },
        "id": "AEItj4_QKTr7",
        "outputId": "4d56168f-5f73-473d-bc80-641e3a463551"
      },
      "execution_count": 33,
      "outputs": [
        {
          "output_type": "stream",
          "name": "stdout",
          "text": [
            "[(2, 1), (3, 2), (1, 3), (4, 5)]\n"
          ]
        }
      ]
    },
    {
      "cell_type": "markdown",
      "source": [
        "------------------------------------------------------------------------------------------------------------------------------------"
      ],
      "metadata": {
        "id": "MiFxFo8cKqkA"
      }
    },
    {
      "cell_type": "markdown",
      "source": [
        "##Q9.\tWrite a Python program that uses map() to convert a list of temperatures from Celsius to Fahrenheit."
      ],
      "metadata": {
        "id": "0K_7h2oaKqT2"
      }
    },
    {
      "cell_type": "markdown",
      "source": [
        "##Ans: Python program that uses map() to convert a list of temperatures from Celsius to Fahrenheit:"
      ],
      "metadata": {
        "id": "A49gBtMyKqEL"
      }
    },
    {
      "cell_type": "code",
      "source": [
        "def celsius_to_fahrenheit(celsius):\n",
        "    return (celsius * 9/5) + 32\n",
        "\n",
        "celsius_temperatures = [0, 10, 20, 30, 40]\n",
        "\n",
        "fahrenheit_temperatures = list(map(celsius_to_fahrenheit, celsius_temperatures))\n",
        "\n",
        "print(list(fahrenheit_temperatures))"
      ],
      "metadata": {
        "colab": {
          "base_uri": "https://localhost:8080/"
        },
        "id": "_wlhtfSnKlRY",
        "outputId": "8accb889-a7d9-4da7-bc0d-007d91091941"
      },
      "execution_count": 38,
      "outputs": [
        {
          "output_type": "stream",
          "name": "stdout",
          "text": [
            "[32.0, 50.0, 68.0, 86.0, 104.0]\n"
          ]
        }
      ]
    },
    {
      "cell_type": "markdown",
      "source": [
        "------------------------------------------------------------------------------------------------------------------------------------"
      ],
      "metadata": {
        "id": "TaGHOOZsL2u4"
      }
    },
    {
      "cell_type": "markdown",
      "source": [
        "##Q10.\tCreate a Python program that uses filter() to remove all the vowels from a given string."
      ],
      "metadata": {
        "id": "jtTbnBElL2fB"
      }
    },
    {
      "cell_type": "markdown",
      "source": [
        "##Ans: Python program that uses filter() to remove all the vowels from a given string:"
      ],
      "metadata": {
        "id": "MihedktxL2Uy"
      }
    },
    {
      "cell_type": "code",
      "source": [
        "def remove_vowels(string):\n",
        "    vowels = 'aeiouAEIOU'\n",
        "    return ''.join(filter(lambda x: x not in vowels, string))\n",
        "\n",
        "input_string = \"kishore, rawat\"\n",
        "result = remove_vowels(input_string)\n",
        "print(result)"
      ],
      "metadata": {
        "colab": {
          "base_uri": "https://localhost:8080/"
        },
        "id": "YOGLGUrXLfY3",
        "outputId": "292ac59b-11ff-4f24-a198-4cadb110d2ae"
      },
      "execution_count": 41,
      "outputs": [
        {
          "output_type": "stream",
          "name": "stdout",
          "text": [
            "kshr, rwt\n"
          ]
        }
      ]
    },
    {
      "cell_type": "markdown",
      "source": [
        "-----------------------------------------------------------------------------------------------------------------------------------------"
      ],
      "metadata": {
        "id": "QB2C9a2yM4Yc"
      }
    },
    {
      "cell_type": "markdown",
      "source": [
        "##Q11. Imagine an accounting routine used in a bookshop. It works on list with sublists, which are like this:\n",
        "\n",
        "Order\tNumber\t-Book Title and Author \t -   Quantity\t  -  Price per Item\n",
        "34587\t\t  -  Learning Python,  Mark Lutz   \t- 4\t        -   40.95\n",
        "98762\t\t -  Programming Python, Mark Lutz\t  - 5\t        -   56.80\n",
        "77226\t\t-    Head First Python, Paul Barry\t-   3\t    -       32.95\n",
        "88112\t-\tEinfuhrung in Python3, Bernd Klein\t- 3\t      -     24.99\n",
        "\n",
        "Write a Python program, which returns a list with 2-tuples. Each tuple consists of the order number and the product of the price per item and the quantity. The product should be increased by 10,- C if the valueof the order is smaller than 100,00 C.\n",
        "\n",
        "Write a Python program using lambda and map."
      ],
      "metadata": {
        "id": "3_0mV5swM4MA"
      }
    },
    {
      "cell_type": "markdown",
      "source": [
        "##Ans."
      ],
      "metadata": {
        "id": "n30w2hxkM4CG"
      }
    },
    {
      "cell_type": "code",
      "source": [
        "# order data\n",
        "orders = [\n",
        "    [34587, \"Learning Python, Mark Lutz\", 4, 40.95],\n",
        "    [98762, \"Programming Python, Mark Lutz\", 5, 56.80],\n",
        "    [77226, \"Head First Python, Paul Barry\", 3, 32.95],\n",
        "    [88112, \"Einfuhrung in Python3, Bernd Klein\", 3, 24.99]\n",
        "]\n",
        "\n",
        "# Function to calculate total price with conditions\n",
        "def calculate_total(order):\n",
        "    order_number, _, quantity, price_per_item = order\n",
        "    total_price = quantity * price_per_item\n",
        "    if total_price < 100:\n",
        "        total_price += 10\n",
        "  # Add extra charge if total is less than 100\n",
        "    return (order_number, total_price)\n",
        "\n",
        "# Using map to apply the function to each order\n",
        "result = list(map(lambda order: calculate_total(order), orders))\n",
        "\n",
        "print(result)"
      ],
      "metadata": {
        "colab": {
          "base_uri": "https://localhost:8080/"
        },
        "id": "2mnSYi2vVa_-",
        "outputId": "5f28196c-cbe6-4851-e572-db72d994621e"
      },
      "execution_count": 44,
      "outputs": [
        {
          "output_type": "stream",
          "name": "stdout",
          "text": [
            "[(34587, 163.8), (98762, 284.0), (77226, 108.85000000000001), (88112, 84.97)]\n"
          ]
        }
      ]
    },
    {
      "cell_type": "markdown",
      "source": [
        "----------------------------------------------------------------------------------------------------------------------------------------"
      ],
      "metadata": {
        "id": "ax5FRlgYWPEs"
      }
    },
    {
      "cell_type": "markdown",
      "source": [
        "#Thanks"
      ],
      "metadata": {
        "id": "zfoXJyFiWTb1"
      }
    }
  ]
}